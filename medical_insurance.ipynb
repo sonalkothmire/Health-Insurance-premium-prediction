{
 "cells": [
  {
   "cell_type": "markdown",
   "id": "df1d13df-cae3-4053-9502-e37d0d07acf0",
   "metadata": {},
   "source": [
    "Importing the libraries and dataset\n"
   ]
  },
  {
   "cell_type": "code",
   "execution_count": 1,
   "id": "26ea50bd-4242-4593-9f51-2ecfde1cf2b6",
   "metadata": {},
   "outputs": [],
   "source": [
    "import numpy as np\n",
    "import pandas as pd\n",
    "import matplotlib.pyplot as plt\n",
    "import seaborn as sns\n",
    "from sklearn.model_selection import train_test_split\n",
    "from sklearn.ensemble import RandomForestRegressor"
   ]
  },
  {
   "cell_type": "markdown",
   "id": "1c6f93d3-88a4-4806-80d1-07ac2b884ae1",
   "metadata": {},
   "source": [
    "Data exploration"
   ]
  },
  {
   "cell_type": "code",
   "execution_count": 2,
   "id": "2c491426-3b2f-431c-979d-b15d01134cd9",
   "metadata": {},
   "outputs": [],
   "source": [
    "data = pd.read_csv(\"E:\\medicalinsurance_Project\\insurance_dataset.csv\") "
   ]
  },
  {
   "cell_type": "code",
   "execution_count": 3,
   "id": "5afd90b4-5750-4784-b600-e1f251cfa6f7",
   "metadata": {},
   "outputs": [
    {
     "data": {
      "text/html": [
       "<div>\n",
       "<style scoped>\n",
       "    .dataframe tbody tr th:only-of-type {\n",
       "        vertical-align: middle;\n",
       "    }\n",
       "\n",
       "    .dataframe tbody tr th {\n",
       "        vertical-align: top;\n",
       "    }\n",
       "\n",
       "    .dataframe thead th {\n",
       "        text-align: right;\n",
       "    }\n",
       "</style>\n",
       "<table border=\"1\" class=\"dataframe\">\n",
       "  <thead>\n",
       "    <tr style=\"text-align: right;\">\n",
       "      <th></th>\n",
       "      <th>age</th>\n",
       "      <th>gender</th>\n",
       "      <th>bmi</th>\n",
       "      <th>children</th>\n",
       "      <th>smoker</th>\n",
       "      <th>region</th>\n",
       "      <th>medical_history</th>\n",
       "      <th>family_medical_history</th>\n",
       "      <th>exercise_frequency</th>\n",
       "      <th>occupation</th>\n",
       "      <th>coverage_level</th>\n",
       "      <th>charges</th>\n",
       "    </tr>\n",
       "  </thead>\n",
       "  <tbody>\n",
       "    <tr>\n",
       "      <th>0</th>\n",
       "      <td>46.0</td>\n",
       "      <td>male</td>\n",
       "      <td>21.45</td>\n",
       "      <td>5.0</td>\n",
       "      <td>yes</td>\n",
       "      <td>southeast</td>\n",
       "      <td>Diabetes</td>\n",
       "      <td>NaN</td>\n",
       "      <td>Never</td>\n",
       "      <td>Blue collar</td>\n",
       "      <td>Premium</td>\n",
       "      <td>20460.307669</td>\n",
       "    </tr>\n",
       "    <tr>\n",
       "      <th>1</th>\n",
       "      <td>25.0</td>\n",
       "      <td>female</td>\n",
       "      <td>25.38</td>\n",
       "      <td>2.0</td>\n",
       "      <td>yes</td>\n",
       "      <td>northwest</td>\n",
       "      <td>Diabetes</td>\n",
       "      <td>High blood pressure</td>\n",
       "      <td>Occasionally</td>\n",
       "      <td>White collar</td>\n",
       "      <td>Premium</td>\n",
       "      <td>20390.899218</td>\n",
       "    </tr>\n",
       "    <tr>\n",
       "      <th>2</th>\n",
       "      <td>38.0</td>\n",
       "      <td>male</td>\n",
       "      <td>44.88</td>\n",
       "      <td>2.0</td>\n",
       "      <td>yes</td>\n",
       "      <td>southwest</td>\n",
       "      <td>NaN</td>\n",
       "      <td>High blood pressure</td>\n",
       "      <td>Occasionally</td>\n",
       "      <td>Blue collar</td>\n",
       "      <td>Premium</td>\n",
       "      <td>20204.476302</td>\n",
       "    </tr>\n",
       "    <tr>\n",
       "      <th>3</th>\n",
       "      <td>25.0</td>\n",
       "      <td>male</td>\n",
       "      <td>19.89</td>\n",
       "      <td>0.0</td>\n",
       "      <td>no</td>\n",
       "      <td>northwest</td>\n",
       "      <td>NaN</td>\n",
       "      <td>Diabetes</td>\n",
       "      <td>Rarely</td>\n",
       "      <td>White collar</td>\n",
       "      <td>Standard</td>\n",
       "      <td>11789.029843</td>\n",
       "    </tr>\n",
       "    <tr>\n",
       "      <th>4</th>\n",
       "      <td>49.0</td>\n",
       "      <td>male</td>\n",
       "      <td>38.21</td>\n",
       "      <td>3.0</td>\n",
       "      <td>yes</td>\n",
       "      <td>northwest</td>\n",
       "      <td>Diabetes</td>\n",
       "      <td>High blood pressure</td>\n",
       "      <td>Rarely</td>\n",
       "      <td>White collar</td>\n",
       "      <td>Standard</td>\n",
       "      <td>19268.309838</td>\n",
       "    </tr>\n",
       "  </tbody>\n",
       "</table>\n",
       "</div>"
      ],
      "text/plain": [
       "    age  gender    bmi  children smoker     region medical_history  \\\n",
       "0  46.0    male  21.45       5.0    yes  southeast        Diabetes   \n",
       "1  25.0  female  25.38       2.0    yes  northwest        Diabetes   \n",
       "2  38.0    male  44.88       2.0    yes  southwest             NaN   \n",
       "3  25.0    male  19.89       0.0     no  northwest             NaN   \n",
       "4  49.0    male  38.21       3.0    yes  northwest        Diabetes   \n",
       "\n",
       "  family_medical_history exercise_frequency    occupation coverage_level  \\\n",
       "0                    NaN              Never   Blue collar        Premium   \n",
       "1    High blood pressure       Occasionally  White collar        Premium   \n",
       "2    High blood pressure       Occasionally   Blue collar        Premium   \n",
       "3               Diabetes             Rarely  White collar       Standard   \n",
       "4    High blood pressure             Rarely  White collar       Standard   \n",
       "\n",
       "        charges  \n",
       "0  20460.307669  \n",
       "1  20390.899218  \n",
       "2  20204.476302  \n",
       "3  11789.029843  \n",
       "4  19268.309838  "
      ]
     },
     "execution_count": 3,
     "metadata": {},
     "output_type": "execute_result"
    }
   ],
   "source": [
    "data.head()"
   ]
  },
  {
   "cell_type": "code",
   "execution_count": 4,
   "id": "f1f97dc1-75ea-4385-9c82-008865deffcf",
   "metadata": {},
   "outputs": [
    {
     "name": "stdout",
     "output_type": "stream",
     "text": [
      "<class 'pandas.core.frame.DataFrame'>\n",
      "RangeIndex: 1000000 entries, 0 to 999999\n",
      "Data columns (total 12 columns):\n",
      " #   Column                  Non-Null Count    Dtype  \n",
      "---  ------                  --------------    -----  \n",
      " 0   age                     960000 non-null   float64\n",
      " 1   gender                  976000 non-null   object \n",
      " 2   bmi                     1000000 non-null  float64\n",
      " 3   children                968000 non-null   float64\n",
      " 4   smoker                  1000000 non-null  object \n",
      " 5   region                  1000000 non-null  object \n",
      " 6   medical_history         749238 non-null   object \n",
      " 7   family_medical_history  749596 non-null   object \n",
      " 8   exercise_frequency      1000000 non-null  object \n",
      " 9   occupation              968000 non-null   object \n",
      " 10  coverage_level          1000000 non-null  object \n",
      " 11  charges                 1000000 non-null  float64\n",
      "dtypes: float64(4), object(8)\n",
      "memory usage: 91.6+ MB\n"
     ]
    }
   ],
   "source": [
    "data.info()"
   ]
  },
  {
   "cell_type": "code",
   "execution_count": 5,
   "id": "5e6ce52d-5b4a-4b36-8ff7-17cc51f8e344",
   "metadata": {},
   "outputs": [
    {
     "data": {
      "text/plain": [
       "(1000000, 12)"
      ]
     },
     "execution_count": 5,
     "metadata": {},
     "output_type": "execute_result"
    }
   ],
   "source": [
    "data.shape"
   ]
  },
  {
   "cell_type": "code",
   "execution_count": 6,
   "id": "e87b43f0-dc0f-48d2-aec3-e9e182304afc",
   "metadata": {},
   "outputs": [
    {
     "data": {
      "text/plain": [
       "Index(['gender', 'smoker', 'region', 'medical_history',\n",
       "       'family_medical_history', 'exercise_frequency', 'occupation',\n",
       "       'coverage_level'],\n",
       "      dtype='object')"
      ]
     },
     "execution_count": 6,
     "metadata": {},
     "output_type": "execute_result"
    }
   ],
   "source": [
    "data.select_dtypes(include = 'object').columns\n",
    "     "
   ]
  },
  {
   "cell_type": "code",
   "execution_count": 7,
   "id": "50838f6f-7995-4383-9ebc-c6f7e2d6d637",
   "metadata": {},
   "outputs": [
    {
     "data": {
      "text/plain": [
       "Index(['age', 'bmi', 'children', 'charges'], dtype='object')"
      ]
     },
     "execution_count": 7,
     "metadata": {},
     "output_type": "execute_result"
    }
   ],
   "source": [
    "data.select_dtypes(include = ['int64','float64']).columns\n",
    "     "
   ]
  },
  {
   "cell_type": "code",
   "execution_count": 8,
   "id": "5fcf968c-5612-4fd6-b615-d595558073b6",
   "metadata": {},
   "outputs": [
    {
     "data": {
      "text/html": [
       "<div>\n",
       "<style scoped>\n",
       "    .dataframe tbody tr th:only-of-type {\n",
       "        vertical-align: middle;\n",
       "    }\n",
       "\n",
       "    .dataframe tbody tr th {\n",
       "        vertical-align: top;\n",
       "    }\n",
       "\n",
       "    .dataframe thead th {\n",
       "        text-align: right;\n",
       "    }\n",
       "</style>\n",
       "<table border=\"1\" class=\"dataframe\">\n",
       "  <thead>\n",
       "    <tr style=\"text-align: right;\">\n",
       "      <th></th>\n",
       "      <th>age</th>\n",
       "      <th>bmi</th>\n",
       "      <th>children</th>\n",
       "      <th>charges</th>\n",
       "    </tr>\n",
       "  </thead>\n",
       "  <tbody>\n",
       "    <tr>\n",
       "      <th>count</th>\n",
       "      <td>960000.000000</td>\n",
       "      <td>1000000.000000</td>\n",
       "      <td>968000.000000</td>\n",
       "      <td>1000000.000000</td>\n",
       "    </tr>\n",
       "    <tr>\n",
       "      <th>mean</th>\n",
       "      <td>41.493661</td>\n",
       "      <td>34.001839</td>\n",
       "      <td>2.499985</td>\n",
       "      <td>16735.117481</td>\n",
       "    </tr>\n",
       "    <tr>\n",
       "      <th>std</th>\n",
       "      <td>13.855738</td>\n",
       "      <td>9.231680</td>\n",
       "      <td>1.707749</td>\n",
       "      <td>4415.808211</td>\n",
       "    </tr>\n",
       "    <tr>\n",
       "      <th>min</th>\n",
       "      <td>18.000000</td>\n",
       "      <td>18.000000</td>\n",
       "      <td>0.000000</td>\n",
       "      <td>3445.011643</td>\n",
       "    </tr>\n",
       "    <tr>\n",
       "      <th>25%</th>\n",
       "      <td>30.000000</td>\n",
       "      <td>26.020000</td>\n",
       "      <td>1.000000</td>\n",
       "      <td>13600.372379</td>\n",
       "    </tr>\n",
       "    <tr>\n",
       "      <th>50%</th>\n",
       "      <td>41.000000</td>\n",
       "      <td>34.000000</td>\n",
       "      <td>2.000000</td>\n",
       "      <td>16622.127973</td>\n",
       "    </tr>\n",
       "    <tr>\n",
       "      <th>75%</th>\n",
       "      <td>53.000000</td>\n",
       "      <td>41.990000</td>\n",
       "      <td>4.000000</td>\n",
       "      <td>19781.465410</td>\n",
       "    </tr>\n",
       "    <tr>\n",
       "      <th>max</th>\n",
       "      <td>65.000000</td>\n",
       "      <td>50.000000</td>\n",
       "      <td>5.000000</td>\n",
       "      <td>32561.560374</td>\n",
       "    </tr>\n",
       "  </tbody>\n",
       "</table>\n",
       "</div>"
      ],
      "text/plain": [
       "                 age             bmi       children         charges\n",
       "count  960000.000000  1000000.000000  968000.000000  1000000.000000\n",
       "mean       41.493661       34.001839       2.499985    16735.117481\n",
       "std        13.855738        9.231680       1.707749     4415.808211\n",
       "min        18.000000       18.000000       0.000000     3445.011643\n",
       "25%        30.000000       26.020000       1.000000    13600.372379\n",
       "50%        41.000000       34.000000       2.000000    16622.127973\n",
       "75%        53.000000       41.990000       4.000000    19781.465410\n",
       "max        65.000000       50.000000       5.000000    32561.560374"
      ]
     },
     "execution_count": 8,
     "metadata": {},
     "output_type": "execute_result"
    }
   ],
   "source": [
    "#statistical summary\n",
    "data.describe()"
   ]
  },
  {
   "cell_type": "markdown",
   "id": "80d2365f-d38b-4723-b391-2aac02fc0221",
   "metadata": {},
   "source": [
    "dealing with missing value"
   ]
  },
  {
   "cell_type": "code",
   "execution_count": 9,
   "id": "7de1b731-1761-4582-ab10-a0bf7c6af31d",
   "metadata": {},
   "outputs": [
    {
     "data": {
      "text/plain": [
       "age                        40000\n",
       "gender                     24000\n",
       "bmi                            0\n",
       "children                   32000\n",
       "smoker                         0\n",
       "region                         0\n",
       "medical_history           250762\n",
       "family_medical_history    250404\n",
       "exercise_frequency             0\n",
       "occupation                 32000\n",
       "coverage_level                 0\n",
       "charges                        0\n",
       "dtype: int64"
      ]
     },
     "execution_count": 9,
     "metadata": {},
     "output_type": "execute_result"
    }
   ],
   "source": [
    "data.isnull().sum()"
   ]
  },
  {
   "cell_type": "code",
   "execution_count": 10,
   "id": "7a5ef5b9-2417-4bfc-a7f8-225140706c73",
   "metadata": {},
   "outputs": [],
   "source": [
    "data.dropna(inplace= True)"
   ]
  },
  {
   "cell_type": "code",
   "execution_count": 11,
   "id": "5151a09d-a21a-45c1-8fb3-b67656e64d1c",
   "metadata": {},
   "outputs": [
    {
     "data": {
      "text/plain": [
       "(509576, 12)"
      ]
     },
     "execution_count": 11,
     "metadata": {},
     "output_type": "execute_result"
    }
   ],
   "source": [
    "data.shape"
   ]
  },
  {
   "cell_type": "code",
   "execution_count": 12,
   "id": "916beabe-fa2c-488d-a07d-77adffa0f5bf",
   "metadata": {},
   "outputs": [
    {
     "data": {
      "text/plain": [
       "array(['female', 'male'], dtype=object)"
      ]
     },
     "execution_count": 12,
     "metadata": {},
     "output_type": "execute_result"
    }
   ],
   "source": [
    "data[\"gender\"].unique()"
   ]
  },
  {
   "cell_type": "code",
   "execution_count": 13,
   "id": "0b57f75a-acb4-4b8c-8bda-d0762d1407a1",
   "metadata": {},
   "outputs": [],
   "source": [
    "data[\"gender\"].replace(['female', 'male'],[0,1],inplace=True)"
   ]
  },
  {
   "cell_type": "code",
   "execution_count": 14,
   "id": "531f2202-9c4c-479c-8d05-65241914886f",
   "metadata": {},
   "outputs": [
    {
     "data": {
      "text/plain": [
       "array(['yes', 'no'], dtype=object)"
      ]
     },
     "execution_count": 14,
     "metadata": {},
     "output_type": "execute_result"
    }
   ],
   "source": [
    "data[\"smoker\"].unique()"
   ]
  },
  {
   "cell_type": "code",
   "execution_count": 15,
   "id": "642e201c-4b13-4ffb-ac5b-c4456acdeba0",
   "metadata": {},
   "outputs": [],
   "source": [
    "data[\"smoker\"].replace(['yes', 'no'],[1,0],inplace=True)"
   ]
  },
  {
   "cell_type": "code",
   "execution_count": 16,
   "id": "37375c85-9da3-420d-a10f-99098a8aa548",
   "metadata": {},
   "outputs": [
    {
     "data": {
      "text/plain": [
       "array(['northwest', 'northeast', 'southeast', 'southwest'], dtype=object)"
      ]
     },
     "execution_count": 16,
     "metadata": {},
     "output_type": "execute_result"
    }
   ],
   "source": [
    "data[\"region\"].unique()"
   ]
  },
  {
   "cell_type": "code",
   "execution_count": 17,
   "id": "076c4de6-7526-4b37-9f0f-d3030cf8ad9d",
   "metadata": {},
   "outputs": [],
   "source": [
    "data[\"region\"].replace(['southeast', 'southwest','northeast','northwest'],[0,1,2,3],inplace=True)"
   ]
  },
  {
   "cell_type": "code",
   "execution_count": 18,
   "id": "1ca759c2-6c6a-421a-a377-07e6d4f1877d",
   "metadata": {},
   "outputs": [
    {
     "data": {
      "text/plain": [
       "array(['Diabetes', 'High blood pressure', 'Heart disease'], dtype=object)"
      ]
     },
     "execution_count": 18,
     "metadata": {},
     "output_type": "execute_result"
    }
   ],
   "source": [
    "data[\"medical_history\"].unique()"
   ]
  },
  {
   "cell_type": "code",
   "execution_count": 19,
   "id": "cf26a09b-7375-4f1e-96aa-ee60a30c0e2b",
   "metadata": {},
   "outputs": [],
   "source": [
    "data[\"medical_history\"].replace(['Heart disease','Diabetes','High blood pressure'],[0,1,2],inplace=True)"
   ]
  },
  {
   "cell_type": "code",
   "execution_count": 20,
   "id": "2cf4a090-898c-4bbc-ba15-e106854bfcfb",
   "metadata": {},
   "outputs": [
    {
     "data": {
      "text/plain": [
       "array(['High blood pressure', 'Diabetes', 'Heart disease'], dtype=object)"
      ]
     },
     "execution_count": 20,
     "metadata": {},
     "output_type": "execute_result"
    }
   ],
   "source": [
    "data[\"family_medical_history\"].unique()"
   ]
  },
  {
   "cell_type": "code",
   "execution_count": 21,
   "id": "6c31bda3-65e3-41d4-9055-43898acdd2de",
   "metadata": {},
   "outputs": [],
   "source": [
    "data[\"family_medical_history\"].replace(['Heart disease','Diabetes','High blood pressure'],[0,1,2],inplace=True)"
   ]
  },
  {
   "cell_type": "code",
   "execution_count": 22,
   "id": "7ab5997e-f7d8-43c0-b34c-13336020a43a",
   "metadata": {},
   "outputs": [
    {
     "data": {
      "text/plain": [
       "array(['Occasionally', 'Rarely', 'Never', 'Frequently'], dtype=object)"
      ]
     },
     "execution_count": 22,
     "metadata": {},
     "output_type": "execute_result"
    }
   ],
   "source": [
    "data[\"exercise_frequency\"].unique()"
   ]
  },
  {
   "cell_type": "code",
   "execution_count": 23,
   "id": "0e9521b2-61f8-468a-a7c5-4869fa9f9649",
   "metadata": {},
   "outputs": [],
   "source": [
    "data[\"exercise_frequency\"].replace(['Occasionally', 'Rarely', 'Never', 'Frequently'],[0,1,2,3],inplace= True)"
   ]
  },
  {
   "cell_type": "code",
   "execution_count": 24,
   "id": "0ea8122e-c9e5-42d0-877b-dc9bec09e288",
   "metadata": {},
   "outputs": [
    {
     "data": {
      "text/plain": [
       "array(['Premium', 'Standard', 'Basic'], dtype=object)"
      ]
     },
     "execution_count": 24,
     "metadata": {},
     "output_type": "execute_result"
    }
   ],
   "source": [
    "data[\"coverage_level\"].unique()"
   ]
  },
  {
   "cell_type": "code",
   "execution_count": 25,
   "id": "6739b16c-13ae-4076-9563-922861a5b342",
   "metadata": {},
   "outputs": [],
   "source": [
    "data[\"coverage_level\"].replace(['Premium', 'Standard', 'Basic'],[0,1,2],inplace= True)"
   ]
  },
  {
   "cell_type": "code",
   "execution_count": 43,
   "id": "707537c5-ed57-4379-90bc-e94ef8741702",
   "metadata": {},
   "outputs": [
    {
     "data": {
      "image/png": "[encoded data removed]",
      "text/plain": [
       "<Figure size 2000x1000 with 1 Axes>"
      ]
     },
     "metadata": {},
     "output_type": "display_data"
    }
   ],
   "source": [
    "#data distribution for numerical column -age\n",
    "plt.figure(figsize=(20, 10))\n",
    "sns.countplot(x='age', data=data)\n",
    "plt.xlabel('age')\n",
    "plt.ylabel('Count')\n",
    "plt.show()"
   ]
  },
  {
   "cell_type": "code",
   "execution_count": 54,
   "id": "418e20c8-3fac-4166-a0e4-b3e67334981a",
   "metadata": {},
   "outputs": [
    {
     "data": {
      "text/plain": [
       "<Figure size 1000x1000 with 0 Axes>"
      ]
     },
     "metadata": {},
     "output_type": "display_data"
    },
    {
     "data": {
      "image/png": "[encoded data removed]",
      "text/plain": [
       "<Figure size 500x500 with 1 Axes>"
      ]
     },
     "metadata": {},
     "output_type": "display_data"
    },
    {
     "data": {
      "image/png": "[encoded data removed]",
      "text/plain": [
       "<Figure size 1000x1000 with 1 Axes>"
      ]
     },
     "metadata": {},
     "output_type": "display_data"
    },
    {
     "data": {
      "image/png": "[encoded data removed]",
      "text/plain": [
       "<Figure size 1000x1000 with 1 Axes>"
      ]
     },
     "metadata": {},
     "output_type": "display_data"
    },
    {
     "data": {
      "image/png": "[encoded data removed]",
      "text/plain": [
       "<Figure size 1000x1000 with 1 Axes>"
      ]
     },
     "metadata": {},
     "output_type": "display_data"
    }
   ],
   "source": [
    "sns.set()\n",
    "plt.figure(figsize=(10, 10))\n",
    "sns.displot(x='smoker', data=data)\n",
    "plt.xlabel('smoker')\n",
    "plt.ylabel('Count')\n",
    "plt.show()\n",
    "\n",
    "\n",
    "sns.set()\n",
    "plt.figure(figsize=(10, 10))\n",
    "sns.countplot(x='medical_history', data=data)\n",
    "plt.xlabel('medical_history')\n",
    "plt.ylabel('Count')\n",
    "plt.show()\n",
    "\n",
    "sns.set()\n",
    "plt.figure(figsize=(10, 10))\n",
    "sns.countplot(x='exercise_frequency', data=data)\n",
    "plt.xlabel('exercise_frequency')\n",
    "plt.ylabel('Count')\n",
    "plt.show()\n",
    "\n",
    "sns.set()\n",
    "plt.figure(figsize=(10, 10))\n",
    "sns.countplot(x='coverage_level', data=data)\n",
    "plt.xlabel('coverage_level')\n",
    "plt.ylabel('Count')\n",
    "plt.show()\n"
   ]
  },
  {
   "cell_type": "code",
   "execution_count": null,
   "id": "442afece-905b-42b8-aa81-5bd911820f5f",
   "metadata": {},
   "outputs": [],
   "source": []
  },
  {
   "cell_type": "code",
   "execution_count": null,
   "id": "7e51eab5-ab15-46e6-87ab-79486ac59a9d",
   "metadata": {},
   "outputs": [],
   "source": []
  },
  {
   "cell_type": "markdown",
   "id": "ffd6ec43-ea4c-4f42-aec5-02330e3a8fc1",
   "metadata": {},
   "source": [
    "Encoding the categorial data"
   ]
  },
  {
   "cell_type": "code",
   "execution_count": 26,
   "id": "88985554-e1a1-4fba-a1c4-287b2e5fec25",
   "metadata": {},
   "outputs": [],
   "source": [
    "data.drop(['occupation'],axis=1,inplace= True)"
   ]
  },
  {
   "cell_type": "code",
   "execution_count": 27,
   "id": "b8eca915-7caf-4bb9-a208-5319983e02bf",
   "metadata": {},
   "outputs": [],
   "source": [
    "#Heatmap\n",
    "corr = data.corr()"
   ]
  },
  {
   "cell_type": "code",
   "execution_count": 28,
   "id": "1845d720-9e48-4613-a5de-a67d6e94fe7d",
   "metadata": {},
   "outputs": [
    {
     "data": {
      "text/plain": [
       "<Axes: >"
      ]
     },
     "execution_count": 28,
     "metadata": {},
     "output_type": "execute_result"
    },
    {
     "data": {
      "image/png": "[encoded data removed]",
      "text/plain": [
       "<Figure size 800x600 with 2 Axes>"
      ]
     },
     "metadata": {},
     "output_type": "display_data"
    }
   ],
   "source": [
    "plt.figure(figsize = (8,6))\n",
    "sns.heatmap(corr, annot = True)"
   ]
  },
  {
   "cell_type": "code",
   "execution_count": 29,
   "id": "f79d4a51-afcd-4386-9b82-cfea6eefa978",
   "metadata": {},
   "outputs": [
    {
     "data": {
      "text/html": [
       "<div>\n",
       "<style scoped>\n",
       "    .dataframe tbody tr th:only-of-type {\n",
       "        vertical-align: middle;\n",
       "    }\n",
       "\n",
       "    .dataframe tbody tr th {\n",
       "        vertical-align: top;\n",
       "    }\n",
       "\n",
       "    .dataframe thead th {\n",
       "        text-align: right;\n",
       "    }\n",
       "</style>\n",
       "<table border=\"1\" class=\"dataframe\">\n",
       "  <thead>\n",
       "    <tr style=\"text-align: right;\">\n",
       "      <th></th>\n",
       "      <th>age</th>\n",
       "      <th>gender</th>\n",
       "      <th>bmi</th>\n",
       "      <th>children</th>\n",
       "      <th>smoker</th>\n",
       "      <th>region</th>\n",
       "      <th>medical_history</th>\n",
       "      <th>family_medical_history</th>\n",
       "      <th>exercise_frequency</th>\n",
       "      <th>coverage_level</th>\n",
       "      <th>charges</th>\n",
       "    </tr>\n",
       "  </thead>\n",
       "  <tbody>\n",
       "    <tr>\n",
       "      <th>1</th>\n",
       "      <td>25.0</td>\n",
       "      <td>0</td>\n",
       "      <td>25.38</td>\n",
       "      <td>2.0</td>\n",
       "      <td>1</td>\n",
       "      <td>3</td>\n",
       "      <td>1</td>\n",
       "      <td>2</td>\n",
       "      <td>0</td>\n",
       "      <td>0</td>\n",
       "      <td>20390.899218</td>\n",
       "    </tr>\n",
       "    <tr>\n",
       "      <th>4</th>\n",
       "      <td>49.0</td>\n",
       "      <td>1</td>\n",
       "      <td>38.21</td>\n",
       "      <td>3.0</td>\n",
       "      <td>1</td>\n",
       "      <td>3</td>\n",
       "      <td>1</td>\n",
       "      <td>2</td>\n",
       "      <td>1</td>\n",
       "      <td>1</td>\n",
       "      <td>19268.309838</td>\n",
       "    </tr>\n",
       "    <tr>\n",
       "      <th>6</th>\n",
       "      <td>64.0</td>\n",
       "      <td>0</td>\n",
       "      <td>20.12</td>\n",
       "      <td>2.0</td>\n",
       "      <td>0</td>\n",
       "      <td>2</td>\n",
       "      <td>2</td>\n",
       "      <td>2</td>\n",
       "      <td>2</td>\n",
       "      <td>2</td>\n",
       "      <td>9563.655011</td>\n",
       "    </tr>\n",
       "    <tr>\n",
       "      <th>7</th>\n",
       "      <td>53.0</td>\n",
       "      <td>1</td>\n",
       "      <td>30.51</td>\n",
       "      <td>4.0</td>\n",
       "      <td>0</td>\n",
       "      <td>0</td>\n",
       "      <td>0</td>\n",
       "      <td>2</td>\n",
       "      <td>1</td>\n",
       "      <td>1</td>\n",
       "      <td>15845.293730</td>\n",
       "    </tr>\n",
       "    <tr>\n",
       "      <th>11</th>\n",
       "      <td>45.0</td>\n",
       "      <td>0</td>\n",
       "      <td>39.68</td>\n",
       "      <td>1.0</td>\n",
       "      <td>0</td>\n",
       "      <td>3</td>\n",
       "      <td>2</td>\n",
       "      <td>2</td>\n",
       "      <td>0</td>\n",
       "      <td>0</td>\n",
       "      <td>14892.145930</td>\n",
       "    </tr>\n",
       "  </tbody>\n",
       "</table>\n",
       "</div>"
      ],
      "text/plain": [
       "     age  gender    bmi  children  smoker  region  medical_history  \\\n",
       "1   25.0       0  25.38       2.0       1       3                1   \n",
       "4   49.0       1  38.21       3.0       1       3                1   \n",
       "6   64.0       0  20.12       2.0       0       2                2   \n",
       "7   53.0       1  30.51       4.0       0       0                0   \n",
       "11  45.0       0  39.68       1.0       0       3                2   \n",
       "\n",
       "    family_medical_history  exercise_frequency  coverage_level       charges  \n",
       "1                        2                   0               0  20390.899218  \n",
       "4                        2                   1               1  19268.309838  \n",
       "6                        2                   2               2   9563.655011  \n",
       "7                        2                   1               1  15845.293730  \n",
       "11                       2                   0               0  14892.145930  "
      ]
     },
     "execution_count": 29,
     "metadata": {},
     "output_type": "execute_result"
    }
   ],
   "source": [
    "data.head()"
   ]
  },
  {
   "cell_type": "markdown",
   "id": "b66cf4af-5aee-419f-9d0f-791b2fef47f9",
   "metadata": {},
   "source": [
    "Splitting the dataset"
   ]
  },
  {
   "cell_type": "code",
   "execution_count": 30,
   "id": "94d9d66a-8a26-4a04-ab0f-1b6c20ea8651",
   "metadata": {},
   "outputs": [],
   "source": [
    "x = data.drop(columns='charges')\n",
    "y= data['charges']\n",
    "x_train, x_test, y_train, y_test = train_test_split(x, y, test_size=0.2, random_state=0)\n",
    "     "
   ]
  },
  {
   "cell_type": "code",
   "execution_count": 31,
   "id": "7ddcf352-b4ea-4a2d-ba11-84d38a0a140c",
   "metadata": {},
   "outputs": [
    {
     "data": {
      "text/plain": [
       "(407660, 10)"
      ]
     },
     "execution_count": 31,
     "metadata": {},
     "output_type": "execute_result"
    }
   ],
   "source": [
    "x_train.shape\n",
    "     "
   ]
  },
  {
   "cell_type": "code",
   "execution_count": 32,
   "id": "d49e80c0-9e51-4b82-bab8-e9565c43a6a6",
   "metadata": {},
   "outputs": [
    {
     "data": {
      "text/plain": [
       "(407660,)"
      ]
     },
     "execution_count": 32,
     "metadata": {},
     "output_type": "execute_result"
    }
   ],
   "source": [
    "y_train.shape"
   ]
  },
  {
   "cell_type": "code",
   "execution_count": 33,
   "id": "3cc3f6aa-4574-44a8-a180-64766bfdf5b0",
   "metadata": {},
   "outputs": [
    {
     "data": {
      "text/plain": [
       "(101916, 10)"
      ]
     },
     "execution_count": 33,
     "metadata": {},
     "output_type": "execute_result"
    }
   ],
   "source": [
    "x_test.shape"
   ]
  },
  {
   "cell_type": "markdown",
   "id": "28845277-bc84-4fce-8ba6-3b61b1d4cdbe",
   "metadata": {},
   "source": [
    "Feature scalling"
   ]
  },
  {
   "cell_type": "code",
   "execution_count": 34,
   "id": "c2919c4c-06e7-4287-a255-e40ece314b2b",
   "metadata": {},
   "outputs": [],
   "source": [
    "from sklearn.preprocessing import StandardScaler\n",
    "sc = StandardScaler()\n",
    "x_train = sc.fit_transform(x_train)\n",
    "x_test = sc.transform(x_test)"
   ]
  },
  {
   "cell_type": "code",
   "execution_count": 35,
   "id": "4b075a8c-4092-4b15-9a7a-3597c4c3c22d",
   "metadata": {
    "scrolled": true
   },
   "outputs": [
    {
     "data": {
      "text/plain": [
       "array([[-1.40524345e+00, -1.00110938e+00,  1.22144551e+00, ...,\n",
       "         1.22541074e+00, -1.33899905e+00,  1.22581924e+00],\n",
       "       [ 1.19228347e+00,  9.98891847e-01,  3.48473694e-01, ...,\n",
       "         9.19134647e-04,  1.34481004e+00,  1.22581924e+00],\n",
       "       [-1.40524345e+00, -1.00110938e+00, -5.86234343e-01, ...,\n",
       "         9.19134647e-04, -4.44396019e-01, -1.22536828e+00],\n",
       "       ...,\n",
       "       [ 2.54287636e-01, -1.00110938e+00, -1.43971051e+00, ...,\n",
       "         9.19134647e-04, -1.33899905e+00,  1.22581924e+00],\n",
       "       [-1.69385755e+00,  9.98891847e-01,  2.25001253e-01, ...,\n",
       "         1.22541074e+00, -4.44396019e-01, -1.22536828e+00],\n",
       "       [ 1.55305109e+00, -1.00110938e+00,  2.34749078e-01, ...,\n",
       "        -1.22357247e+00, -4.44396019e-01, -1.22536828e+00]])"
      ]
     },
     "execution_count": 35,
     "metadata": {},
     "output_type": "execute_result"
    }
   ],
   "source": [
    "x_train"
   ]
  },
  {
   "cell_type": "markdown",
   "id": "0436ab19-f8f7-4002-9a59-cbc846026908",
   "metadata": {},
   "source": [
    " Fit and evaluate the model"
   ]
  },
  {
   "cell_type": "code",
   "execution_count": 36,
   "id": "de44a9df-5e47-4065-9343-2acfca1e53c8",
   "metadata": {
    "scrolled": true
   },
   "outputs": [
    {
     "data": {
      "text/html": [
       "<style>#sk-container-id-1 {color: black;background-color: white;}#sk-container-id-1 pre{padding: 0;}#sk-container-id-1 div.sk-toggleable {background-color: white;}#sk-container-id-1 label.sk-toggleable__label {cursor: pointer;display: block;width: 100%;margin-bottom: 0;padding: 0.3em;box-sizing: border-box;text-align: center;}#sk-container-id-1 label.sk-toggleable__label-arrow:before {content: \"▸\";float: left;margin-right: 0.25em;color: #696969;}#sk-container-id-1 label.sk-toggleable__label-arrow:hover:before {color: black;}#sk-container-id-1 div.sk-estimator:hover label.sk-toggleable__label-arrow:before {color: black;}#sk-container-id-1 div.sk-toggleable__content {max-height: 0;max-width: 0;overflow: hidden;text-align: left;background-color: #f0f8ff;}#sk-container-id-1 div.sk-toggleable__content pre {margin: 0.2em;color: black;border-radius: 0.25em;background-color: #f0f8ff;}#sk-container-id-1 input.sk-toggleable__control:checked~div.sk-toggleable__content {max-height: 200px;max-width: 100%;overflow: auto;}#sk-container-id-1 input.sk-toggleable__control:checked~label.sk-toggleable__label-arrow:before {content: \"▾\";}#sk-container-id-1 div.sk-estimator input.sk-toggleable__control:checked~label.sk-toggleable__label {background-color: #d4ebff;}#sk-container-id-1 div.sk-label input.sk-toggleable__control:checked~label.sk-toggleable__label {background-color: #d4ebff;}#sk-container-id-1 input.sk-hidden--visually {border: 0;clip: rect(1px 1px 1px 1px);clip: rect(1px, 1px, 1px, 1px);height: 1px;margin: -1px;overflow: hidden;padding: 0;position: absolute;width: 1px;}#sk-container-id-1 div.sk-estimator {font-family: monospace;background-color: #f0f8ff;border: 1px dotted black;border-radius: 0.25em;box-sizing: border-box;margin-bottom: 0.5em;}#sk-container-id-1 div.sk-estimator:hover {background-color: #d4ebff;}#sk-container-id-1 div.sk-parallel-item::after {content: \"\";width: 100%;border-bottom: 1px solid gray;flex-grow: 1;}#sk-container-id-1 div.sk-label:hover label.sk-toggleable__label {background-color: #d4ebff;}#sk-container-id-1 div.sk-serial::before {content: \"\";position: absolute;border-left: 1px solid gray;box-sizing: border-box;top: 0;bottom: 0;left: 50%;z-index: 0;}#sk-container-id-1 div.sk-serial {display: flex;flex-direction: column;align-items: center;background-color: white;padding-right: 0.2em;padding-left: 0.2em;position: relative;}#sk-container-id-1 div.sk-item {position: relative;z-index: 1;}#sk-container-id-1 div.sk-parallel {display: flex;align-items: stretch;justify-content: center;background-color: white;position: relative;}#sk-container-id-1 div.sk-item::before, #sk-container-id-1 div.sk-parallel-item::before {content: \"\";position: absolute;border-left: 1px solid gray;box-sizing: border-box;top: 0;bottom: 0;left: 50%;z-index: -1;}#sk-container-id-1 div.sk-parallel-item {display: flex;flex-direction: column;z-index: 1;position: relative;background-color: white;}#sk-container-id-1 div.sk-parallel-item:first-child::after {align-self: flex-end;width: 50%;}#sk-container-id-1 div.sk-parallel-item:last-child::after {align-self: flex-start;width: 50%;}#sk-container-id-1 div.sk-parallel-item:only-child::after {width: 0;}#sk-container-id-1 div.sk-dashed-wrapped {border: 1px dashed gray;margin: 0 0.4em 0.5em 0.4em;box-sizing: border-box;padding-bottom: 0.4em;background-color: white;}#sk-container-id-1 div.sk-label label {font-family: monospace;font-weight: bold;display: inline-block;line-height: 1.2em;}#sk-container-id-1 div.sk-label-container {text-align: center;}#sk-container-id-1 div.sk-container {/* jupyter's `normalize.less` sets `[hidden] { display: none; }` but bootstrap.min.css set `[hidden] { display: none !important; }` so we also need the `!important` here to be able to override the default hidden behavior on the sphinx rendered scikit-learn.org. See: https://github.com/scikit-learn/scikit-learn/issues/21755 */display: inline-block !important;position: relative;}#sk-container-id-1 div.sk-text-repr-fallback {display: none;}</style><div id=\"sk-container-id-1\" class=\"sk-top-container\"><div class=\"sk-text-repr-fallback\"><pre>RandomForestRegressor(max_depth=7)</pre><b>In a Jupyter environment, please rerun this cell to show the HTML representation or trust the notebook. <br />On GitHub, the HTML representation is unable to render, please try loading this page with nbviewer.org.</b></div><div class=\"sk-container\" hidden><div class=\"sk-item\"><div class=\"sk-estimator sk-toggleable\"><input class=\"sk-toggleable__control sk-hidden--visually\" id=\"sk-estimator-id-1\" type=\"checkbox\" checked><label for=\"sk-estimator-id-1\" class=\"sk-toggleable__label sk-toggleable__label-arrow\">RandomForestRegressor</label><div class=\"sk-toggleable__content\"><pre>RandomForestRegressor(max_depth=7)</pre></div></div></div></div></div>"
      ],
      "text/plain": [
       "RandomForestRegressor(max_depth=7)"
      ]
     },
     "execution_count": 36,
     "metadata": {},
     "output_type": "execute_result"
    }
   ],
   "source": [
    "Random_lr = RandomForestRegressor(n_estimators = 100, max_depth=7)\n",
    "Random_lr.fit(x_train,y_train)"
   ]
  },
  {
   "cell_type": "code",
   "execution_count": 37,
   "id": "e18d807d-3c54-47ce-aacc-1cab53e57469",
   "metadata": {},
   "outputs": [
    {
     "data": {
      "text/plain": [
       "0.9172653374576869"
      ]
     },
     "execution_count": 37,
     "metadata": {},
     "output_type": "execute_result"
    }
   ],
   "source": [
    "y_pred = Random_lr.predict(x_test)\n",
    "from sklearn.metrics import r2_score\n",
    "r2_score(y_test, y_pred) "
   ]
  },
  {
   "cell_type": "code",
   "execution_count": null,
   "id": "f776ddb4-430b-4d92-8a06-a1de2564453d",
   "metadata": {},
   "outputs": [],
   "source": []
  },
  {
   "cell_type": "code",
   "execution_count": 38,
   "id": "8744d52a-5ed2-495d-90c5-9b7cbf648370",
   "metadata": {},
   "outputs": [],
   "source": [
    "import pickle as pkl"
   ]
  },
  {
   "cell_type": "code",
   "execution_count": 39,
   "id": "820dc7e2-083c-41f2-aaa8-9160664b8339",
   "metadata": {},
   "outputs": [],
   "source": [
    "pkl.dump(Random_lr,open('MIPML.pkl','wb'))"
   ]
  },
  {
   "cell_type": "code",
   "execution_count": null,
   "id": "8f25c3bf-6501-4902-8ccb-552a56ca4c53",
   "metadata": {},
   "outputs": [],
   "source": []
  },
  {
   "cell_type": "code",
   "execution_count": null,
   "id": "6c2bdee2-a788-46ab-9880-fbe34d9a8c27",
   "metadata": {},
   "outputs": [],
   "source": []
  },
  {
   "cell_type": "code",
   "execution_count": null,
   "id": "4e6d490c-e3c1-4ea6-8cb5-a0e02397e7ad",
   "metadata": {},
   "outputs": [],
   "source": []
  },
  {
   "cell_type": "code",
   "execution_count": null,
   "id": "9e00494c-0095-41d1-8101-b24dcf99ed27",
   "metadata": {},
   "outputs": [],
   "source": []
  }
 ],
 "metadata": {
  "kernelspec": {
   "display_name": "Python 3 (ipykernel)",
   "language": "python",
   "name": "python3"
  },
  "language_info": {
   "codemirror_mode": {
    "name": "ipython",
    "version": 3
   },
   "file_extension": ".py",
   "mimetype": "text/x-python",
   "name": "python",
   "nbconvert_exporter": "python",
   "pygments_lexer": "ipython3",
   "version": "3.11.7"
  }
 },
 "nbformat": 4,
 "nbformat_minor": 5
}
